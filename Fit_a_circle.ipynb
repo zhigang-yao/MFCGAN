{
 "cells": [
  {
   "cell_type": "code",
   "execution_count": null,
   "id": "c12e0e0f",
   "metadata": {},
   "outputs": [],
   "source": [
    "!pip install -r requirements.txt"
   ]
  },
  {
   "cell_type": "code",
   "execution_count": null,
   "id": "ad410f75",
   "metadata": {},
   "outputs": [],
   "source": [
    "!python -m visdom.server"
   ]
  },
  {
   "cell_type": "code",
   "execution_count": null,
   "id": "296eecd8",
   "metadata": {},
   "outputs": [],
   "source": [
    "!start http://localhost:8097/"
   ]
  },
  {
   "cell_type": "code",
   "execution_count": null,
   "id": "fc25e352",
   "metadata": {},
   "outputs": [],
   "source": [
    "!python train.py --dataroot ./datasets/circle/ --name circle"
   ]
  },
  {
   "cell_type": "code",
   "execution_count": 1,
   "id": "f457b992",
   "metadata": {},
   "outputs": [
    {
     "name": "stdout",
     "output_type": "stream",
     "text": [
      "initialize network with normal\n"
     ]
    }
   ],
   "source": [
    "import torch\n",
    "from models import networks\n",
    "import matplotlib.pyplot as plt\n",
    "G_A = networks.define_G([1],[2],'ffnet_9layers',9,'instance',False)"
   ]
  },
  {
   "cell_type": "code",
   "execution_count": 2,
   "id": "81cacc39",
   "metadata": {},
   "outputs": [
    {
     "data": {
      "text/plain": [
       "<All keys matched successfully>"
      ]
     },
     "execution_count": 2,
     "metadata": {},
     "output_type": "execute_result"
    }
   ],
   "source": [
    "weight_file = './checkpoints/circle/latest_net_G_A.pth'\n",
    "state_dict = torch.load(weight_file)\n",
    "G_A.load_state_dict(state_dict)"
   ]
  },
  {
   "cell_type": "code",
   "execution_count": 3,
   "id": "447e0d52",
   "metadata": {},
   "outputs": [],
   "source": [
    "import os\n",
    "import numpy as np\n",
    "\n",
    "dir = 'results/circle/'\n",
    "if not os.path.exists(dir):\n",
    "    # Create the directory if it doesn't exist\n",
    "    os.makedirs(dir)\n"
   ]
  },
  {
   "cell_type": "code",
   "execution_count": 4,
   "id": "4d6c7243",
   "metadata": {},
   "outputs": [],
   "source": [
    "input_data = torch.rand(10000).view(-1, 1, 1)\n",
    "\n",
    "# Pass the input through the model\n",
    "output_data = G_A(input_data)\n",
    "output_data = output_data.view(-1, 2)\n",
    "noisy_data = output_data + torch.randn(output_data.size()) * 0.01\n",
    "noisy_data = noisy_data.detach().numpy()\n",
    "output_data = output_data.detach().numpy()"
   ]
  },
  {
   "cell_type": "code",
   "execution_count": 5,
   "id": "77add522",
   "metadata": {},
   "outputs": [],
   "source": [
    "np.savetxt(dir+'data_out.csv', output_data, delimiter=',')\n",
    "np.savetxt(dir+'data_noise.csv', noisy_data, delimiter=',')\n"
   ]
  }
 ],
 "metadata": {
  "kernelspec": {
   "display_name": "Python 3 (ipykernel)",
   "language": "python",
   "name": "python3"
  },
  "language_info": {
   "codemirror_mode": {
    "name": "ipython",
    "version": 3
   },
   "file_extension": ".py",
   "mimetype": "text/x-python",
   "name": "python",
   "nbconvert_exporter": "python",
   "pygments_lexer": "ipython3",
   "version": "3.8.11"
  }
 },
 "nbformat": 4,
 "nbformat_minor": 5
}
